{
 "cells": [
  {
   "cell_type": "code",
   "execution_count": null,
   "id": "83043d55249b7938",
   "metadata": {
    "collapsed": true
   },
   "source": [
    "# Converting a DQN model to a tflite model\n",
    "%pip install torch onnx tensorflow onnx-tf"
   ],
   "outputs": []
  },
  {
   "metadata": {},
   "cell_type": "code",
   "execution_count": null,
   "source": [
    "# Import necessary libraries\n",
    "import torch\n",
    "import onnx\n",
    "import tensorflow as tf\n",
    "from onnx_tf.backend import prepare\n",
    "from stable_baselines3 import DQN"
   ],
   "id": "c030724f19728fa2",
   "outputs": []
  },
  {
   "metadata": {},
   "cell_type": "code",
   "execution_count": null,
   "source": [
    "\n",
    "# Load the DQN model\n",
    "models = DQN.load(\"dqn_robot\")\n",
    "policy = models.policy"
   ],
   "id": "cd6c9b08857cfae",
   "outputs": []
  },
  {
   "metadata": {},
   "cell_type": "code",
   "execution_count": null,
   "source": [
    "\n",
    "# Create a dummy input for the model\n",
    "dummy_input = torch.randn(1, policy.observation_space.shape[0])"
   ],
   "id": "8104389fa3306b1a",
   "outputs": []
  },
  {
   "metadata": {},
   "cell_type": "code",
   "execution_count": null,
   "source": [
    "\n",
    "# Export the model to ONNX format\n",
    "torch.onnx.export(policy, dummy_input, \"dqn_robot.onnx\")"
   ],
   "id": "87dd9baf5af84c20",
   "outputs": []
  },
  {
   "metadata": {},
   "cell_type": "code",
   "execution_count": null,
   "source": [
    "\n",
    "# Load the ONNX model\n",
    "onnx_model = onnx.load(\"dqn_robot.onnx\")"
   ],
   "id": "394786dc734e5273",
   "outputs": []
  },
  {
   "metadata": {},
   "cell_type": "code",
   "execution_count": null,
   "source": [
    "\n",
    "# Prepare the ONNX model for TensorFlow\n",
    "tf_rep = prepare(onnx_model)"
   ],
   "id": "a4304359c142963b",
   "outputs": []
  },
  {
   "metadata": {},
   "cell_type": "code",
   "execution_count": null,
   "source": [
    "\n",
    "# Export the model to TensorFlow format\n",
    "tf_rep.export_graph(\"dqn_robot.pb\")"
   ],
   "id": "9d4074c38d38b8a1",
   "outputs": []
  },
  {
   "metadata": {},
   "cell_type": "code",
   "execution_count": null,
   "source": [
    "\n",
    "# Convert the TensorFlow model to TFLite format\n",
    "converter = tf.lite.TFLiteConverter.from_saved_model(\"dqn_robot.pb\")\n",
    "tflite_model = converter.convert()"
   ],
   "id": "818b938c4173bee5",
   "outputs": []
  },
  {
   "metadata": {},
   "cell_type": "code",
   "execution_count": null,
   "source": [
    "\n",
    "# Save the TFLite model to a file\n",
    "with open(\"dqn_robot.tflite\", \"wb\") as f:\n",
    "    f.write(tflite_model)"
   ],
   "id": "initial_id",
   "outputs": []
  }
 ],
 "metadata": {
  "kernelspec": {
   "display_name": "Python 3",
   "language": "python",
   "name": "python3"
  },
  "language_info": {
   "codemirror_mode": {
    "name": "ipython",
    "version": 2
   },
   "file_extension": ".py",
   "mimetype": "text/x-python",
   "name": "python",
   "nbconvert_exporter": "python",
   "pygments_lexer": "ipython2",
   "version": "2.7.6"
  }
 },
 "nbformat": 4,
 "nbformat_minor": 5
}

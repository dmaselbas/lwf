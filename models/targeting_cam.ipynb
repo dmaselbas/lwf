{
 "cells": [
  {
   "cell_type": "code",
   "execution_count": null,
   "id": "initial_id",
   "metadata": {
    "collapsed": true
   },
   "outputs": [],
   "source": [
    "import cv2\n",
    "import ipywidgets as widgets\n",
    "from IPython.display import display\n",
    "from time import sleep\n",
    "# Initialize the camera\n",
    "cap = cv2.VideoCapture(10)\n",
    "\n",
    "# Create an ipywidget image\n",
    "image_widget = widgets.Image(format='jpeg', width=640, height=480)\n",
    "display(image_widget)\n",
    "\n",
    "def update_image():\n",
    "    ret, frame = cap.read()\n",
    "    if ret:\n",
    "        # Convert the frame to RGB format\n",
    "        frame = cv2.cvtColor(frame, cv2.COLOR_BGR2RGB)\n",
    "        # Convert the frame to JPEG format\n",
    "        jpeg_image = cv2.imencode('.jpg', frame)[1].tobytes()\n",
    "        # Update the ipywidget image\n",
    "        image_widget.value = jpeg_image\n",
    "\n",
    "# Start capturing frames\n",
    "cap.open(10)\n",
    "\n",
    "while True:\n",
    "    update_image()\n",
    "    sleep(0.05)  # Adjust the frame rate"
   ]
  }
 ],
 "metadata": {
  "kernelspec": {
   "display_name": "Python 3",
   "language": "python",
   "name": "python3"
  },
  "language_info": {
   "codemirror_mode": {
    "name": "ipython",
    "version": 2
   },
   "file_extension": ".py",
   "mimetype": "text/x-python",
   "name": "python",
   "nbconvert_exporter": "python",
   "pygments_lexer": "ipython2",
   "version": "2.7.6"
  }
 },
 "nbformat": 4,
 "nbformat_minor": 5
}
